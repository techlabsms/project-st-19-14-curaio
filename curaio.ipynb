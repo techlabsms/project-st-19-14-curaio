{
 "cells": [
  {
   "cell_type": "markdown",
   "metadata": {},
   "source": [
    "# Flu prediction - TechLabs Project 14: Curaio"
   ]
  },
  {
   "cell_type": "markdown",
   "metadata": {},
   "source": [
    "This notebook contains the code for our TechLabs (https://tech-labs.de/) project Curaio. Our aim is to predict Influenza rates, more precisely Influenza like illnesses (ILI) rates, for the United States on the state level using Time Series data. We complement the historic data with Google Trends data for typical symptoms of influenza like illnesses.\n",
    "\n",
    "The datasets are extracted from ILINet using R's cdcfluview package and using PyTrends to get the Google Trends data."
   ]
  },
  {
   "cell_type": "code",
   "execution_count": 1,
   "metadata": {},
   "outputs": [],
   "source": [
    "import pandas as pd\n",
    "import numpy as np\n",
    "import matplotlib.pyplot as plt\n",
    "import seaborn as sns\n",
    "import time\n",
    "from datetime import datetime\n",
    "from pytrends.request import TrendReq\n",
    "import pytrends\n",
    "from random import randint\n",
    "import pmdarima as pm\n",
    "import statsmodels.api as sm"
   ]
  },
  {
   "cell_type": "markdown",
   "metadata": {},
   "source": [
    "## Functions"
   ]
  },
  {
   "cell_type": "code",
   "execution_count": 2,
   "metadata": {},
   "outputs": [],
   "source": [
    "def get_data(state, abb, kw_list):\n",
    "    \"\"\"takes state, state abbreviation from Google Trends \n",
    "    and keyword list as inputs and returns DataFrame\n",
    "    containing ili rates for the state and Google Trends data\n",
    "    for the keywords\"\"\"\n",
    "    \n",
    "     # ili data\n",
    "    states_ili = pd.read_csv(\"ili_state_level.csv\", header=0)\n",
    "    states_ili[\"date\"] = pd.to_datetime(states_ili.week.astype(str) + states_ili.year.astype(str).add(\"-0\"), format=\"%W%Y-%w\")\n",
    "    states_ili.set_index(\"date\", inplace=True)\n",
    "    ili = states_ili.loc[states_ili[\"region\"]==state,:]\n",
    "    ili = ili.shift(-1, freq='W')\n",
    "    ili = ili.drop([\"Unnamed: 0\", \"weighted_ili\", \"age_0_4\", \"age_25_49\", \"age_25_64\", \"age_5_24\", \"age_50_64\", \"age_65\", \"week_start\"], axis=1)\n",
    "    \n",
    "     # Google Trends\n",
    "    geo = \"US-\" + str(abb)\n",
    "    pytrends = TrendReq(hl='en-US', tz=360)\n",
    "    pytrends.build_payload(kw_list, cat=0, timeframe=\"2014-09-29 2019-07-07\", geo=geo)\n",
    "    trends = pytrends.interest_over_time()\n",
    "    trends = trends.drop(\"isPartial\", axis=1)\n",
    "    \n",
    "    # merge the dataframes on the Datetimeindex\n",
    "    merged = trends.join(ili)\n",
    "    merged = merged.asfreq(\"W\")\n",
    "    \n",
    "    return merged\n",
    "\n",
    "\n",
    "\n",
    "\n",
    "def get_usdata(kw_list):\n",
    "    \"\"\"takes keyword list as input and returns DataFrame\n",
    "    containing ili rates for the state and Google Trends \n",
    "    data for the keywords\"\"\"\n",
    "    \n",
    "    # ili data\n",
    "    us_ili = pd.read_csv(\"ili_national_level.csv\", header=0)\n",
    "    us_ili[\"date\"] = pd.to_datetime(us_ili.week.astype(str) + us_ili.year.astype(str).add(\"-0\"), format=\"%W%Y-%w\")\n",
    "    us_ili.set_index(\"date\", inplace=True)\n",
    "    ili = us_ili.shift(-1, freq='W')\n",
    "       \n",
    "    \n",
    "    # Google Trends\n",
    "    pytrends = TrendReq(hl='en-US', tz=360)\n",
    "    pytrends.build_payload(kw_list, cat=0, timeframe=\"2015-01-11 2019-07-07\", geo=\"US\")\n",
    "    trends = pytrends.interest_over_time()\n",
    "    trends = trends.drop(\"isPartial\", axis=1)\n",
    "    \n",
    "    # merge the dataframes on the Datetimeindex\n",
    "    merged = trends.join(ili)\n",
    "    merged[\"unweighted_ili\"] = merged[\"unweighted_ili\"].interpolate(method=\"linear\")\n",
    "    merged = merged.drop(merged.tail(4).index, inplace=False)\n",
    "    merged = merged.asfreq(\"W\")\n",
    "    \n",
    "    return merged\n",
    "\n",
    "\n",
    "\n",
    "\n",
    "def correlation(df, kw):\n",
    "    \"\"\"takes dataframe and column name (i.e. a keyword) as input and returns\n",
    "    the correlation between unweighted ili and the keyword search volume\"\"\"\n",
    "    \n",
    "    corr = df[\"unweighted_ili\"].corr(df[kw])\n",
    "    return corr\n",
    "    \n",
    "    \n",
    "    \n",
    "    \n",
    "def corr_coefficients(state, abb, kw_list):\n",
    "    \"\"\"takes state , state abbreviation from Google Trends \n",
    "    and keyword list as inputs and returns correlation coefficients\n",
    "    of ili rates and Google Trends keywords\"\"\"\n",
    "    \n",
    "    # ili data\n",
    "    states_ili = pd.read_csv(\"ili_state_level.csv\", header=0)\n",
    "    states_ili[\"date\"] = pd.to_datetime(states_ili.week.astype(str) + states_ili.year.astype(str).add(\"-0\"), format=\"%W%Y-%w\")\n",
    "    states_ili.set_index(\"date\", inplace=True)\n",
    "    ili = states_ili.loc[states_ili[\"region\"]==state,:]\n",
    "    ili = ili.shift(-1, freq='W')\n",
    "    \n",
    "    # Google Trends\n",
    "    geo = \"US-\" + str(abb)\n",
    "    pytrends = TrendReq(hl='en-US', tz=360)\n",
    "    pytrends.build_payload(kw_list, cat=0, timeframe=\"2014-09-29 2019-07-07\", geo=geo)\n",
    "    trends = pytrends.interest_over_time()\n",
    "    trends = trends.drop(\"isPartial\", axis=1)\n",
    "    \n",
    "    # merge the dataframes on the Datetimeindex\n",
    "    merged = trends.join(ili)\n",
    "        \n",
    "    # correlation coefficients\n",
    "    for var in kw_list:\n",
    "        print(\"Corr. Coef. between unweighted_ili and \" + var + \" for \" + str(state) + \": \" + str(merged[\"unweighted_ili\"].corr(merged[var])))\n",
    "\n",
    "        \n",
    "        \n",
    "        \n",
    "def add_weekdummies(df):\n",
    "    df[\"week\"] = df[\"week\"].astype(\"category\")\n",
    "    new = pd.get_dummies(df, columns=[\"week\"], drop_first=True)\n",
    "    \n",
    "    return new"
   ]
  },
  {
   "cell_type": "markdown",
   "metadata": {},
   "source": [
    "## Exploratory Data Analysis: ILI Rates"
   ]
  },
  {
   "cell_type": "markdown",
   "metadata": {},
   "source": [
    "### State level data"
   ]
  },
  {
   "cell_type": "code",
   "execution_count": null,
   "metadata": {},
   "outputs": [],
   "source": [
    "# load ILI rates into dataframes\n",
    "state_ili = pd.read_csv(\"ili_state_level.csv\", header=0)\n",
    "state_ili.head()"
   ]
  },
  {
   "cell_type": "code",
   "execution_count": null,
   "metadata": {},
   "outputs": [],
   "source": [
    "state_ili.info()"
   ]
  },
  {
   "cell_type": "code",
   "execution_count": null,
   "metadata": {},
   "outputs": [],
   "source": [
    "# dropping count column, age* columns, weighted_ili, week_start\n",
    "ili = state_ili.drop([\"Unnamed: 0\", \"weighted_ili\", \"age_0_4\", \"age_25_49\", \"age_25_64\", \"age_5_24\", \"age_50_64\", \"age_65\", \"week_start\"], axis=1)\n",
    "ili.head()"
   ]
  },
  {
   "cell_type": "code",
   "execution_count": null,
   "metadata": {},
   "outputs": [],
   "source": [
    "for y in [2014, 2015, 2016, 2017, 2018, 2019]:\n",
    "    print(ili.loc[(ili[\"region\"]==\"Alabama\") & (ili[\"year\"]==y),:].week.count())"
   ]
  },
  {
   "cell_type": "markdown",
   "metadata": {},
   "source": [
    "There are 14 weeks for 2014, 52 weeks for the years 2015 to 2018 and 23 weeks for 2019 included in the ILI time series."
   ]
  },
  {
   "cell_type": "code",
   "execution_count": null,
   "metadata": {},
   "outputs": [],
   "source": [
    "ili.region.nunique()"
   ]
  },
  {
   "cell_type": "code",
   "execution_count": null,
   "metadata": {},
   "outputs": [],
   "source": [
    "ili.region.value_counts()"
   ]
  },
  {
   "cell_type": "markdown",
   "metadata": {},
   "source": [
    "There are 54 unique states. The 4 additional states are \"District of Columbia\", \"New York City\", \"Puerto Rico\" and \"Virgin Islands\". Since only the District of Columbia is included in Google Trends we drop the other three states from our data."
   ]
  },
  {
   "cell_type": "code",
   "execution_count": null,
   "metadata": {},
   "outputs": [],
   "source": [
    "ili = ili.drop(ili[ili.region==\"New York City\"].index)\n",
    "ili = ili.drop(ili[ili.region==\"Puerto Rico\"].index)\n",
    "ili = ili.drop(ili[ili.region==\"Virgin Islands\"].index)"
   ]
  },
  {
   "cell_type": "code",
   "execution_count": null,
   "metadata": {},
   "outputs": [],
   "source": [
    "# check for missing data in states\n",
    "ili[\"unweighted_ili\"].isnull().groupby(ili[\"region\"]).sum()"
   ]
  },
  {
   "cell_type": "markdown",
   "metadata": {},
   "source": [
    "The ili rates are missing for Florida, therefore we drop the rows containing data for Florida."
   ]
  },
  {
   "cell_type": "code",
   "execution_count": null,
   "metadata": {},
   "outputs": [],
   "source": [
    "ili = ili.drop(ili[ili.region==\"Florida\"].index)\n",
    "ili.region.nunique()"
   ]
  },
  {
   "cell_type": "code",
   "execution_count": null,
   "metadata": {},
   "outputs": [],
   "source": [
    "# setting the date as datetimeindex\n",
    "ili[\"date\"] = pd.to_datetime(ili.week.astype(str) + ili.year.astype(str).add(\"-0\"), format=\"%W%Y-%w\")\n",
    "ili.set_index(\"date\", inplace=True)"
   ]
  },
  {
   "cell_type": "code",
   "execution_count": null,
   "metadata": {},
   "outputs": [],
   "source": [
    "# plotting means of ili rates over all states\n",
    "means = ili.reset_index().groupby(\"date\").mean()\n",
    "means.reset_index().plot(x=\"date\", y=\"unweighted_ili\", figsize=(15,10))"
   ]
  },
  {
   "cell_type": "markdown",
   "metadata": {},
   "source": [
    "### National Level"
   ]
  },
  {
   "cell_type": "code",
   "execution_count": null,
   "metadata": {},
   "outputs": [],
   "source": [
    "kw_list = [\"fever\", \"flu\", \"cough\", \"sore throat\", \"headache\"]\n",
    "ili_us = get_usdata(kw_list)"
   ]
  },
  {
   "cell_type": "code",
   "execution_count": null,
   "metadata": {},
   "outputs": [],
   "source": [
    "ili_us[\"unweighted_ili\"].isnull().sum()"
   ]
  },
  {
   "cell_type": "code",
   "execution_count": null,
   "metadata": {},
   "outputs": [],
   "source": [
    "ili_us[ili_us[\"unweighted_ili\"].isnull()]"
   ]
  },
  {
   "cell_type": "code",
   "execution_count": null,
   "metadata": {},
   "outputs": [],
   "source": [
    "date_list = [datetime(2019, 6, 16), datetime(2019, 6, 23), datetime(2019, 6, 30), datetime(2019, 7, 7)]\n",
    "ili_us = ili_us.drop(date_list)\n",
    "ili_us[ili_us[\"unweighted_ili\"].isnull()]"
   ]
  },
  {
   "cell_type": "code",
   "execution_count": null,
   "metadata": {},
   "outputs": [],
   "source": [
    "# before linear interpolation\n",
    "print(ili_us[\"2018-12\"].unweighted_ili), print(ili_us[\"2019-01\"].unweighted_ili)"
   ]
  },
  {
   "cell_type": "code",
   "execution_count": null,
   "metadata": {},
   "outputs": [],
   "source": [
    "# fill in missing value using linear interpolation\n",
    "ili_us[\"unweighted_ili\"] = ili_us[\"unweighted_ili\"].interpolate(method=\"linear\")"
   ]
  },
  {
   "cell_type": "code",
   "execution_count": null,
   "metadata": {},
   "outputs": [],
   "source": [
    "# after linear interpolation\n",
    "print(ili_us[\"2018-12\"].unweighted_ili), print(ili_us[\"2019-01\"].unweighted_ili)"
   ]
  },
  {
   "cell_type": "markdown",
   "metadata": {},
   "source": [
    "## Google Trends Data"
   ]
  },
  {
   "cell_type": "code",
   "execution_count": null,
   "metadata": {},
   "outputs": [],
   "source": [
    "pytrends = TrendReq(hl='en-US', tz=360)"
   ]
  },
  {
   "cell_type": "code",
   "execution_count": null,
   "metadata": {},
   "outputs": [],
   "source": [
    "# getting data for all states\n",
    "kw_list = [\"fever\", \"flu\", \"cough\", \"sore throat\", \"headache\"]\n",
    "states = [\"AL\", \"AZ\"]\n",
    "trends_data = pd.DataFrame()\n",
    "for state in states:\n",
    "    geo = str(\"US-\" + str(state))\n",
    "    pytrends.build_payload(kw_list, cat=0, timeframe=\"today 5-y\", geo=geo)\n",
    "    trends_state = pytrends.interest_over_time()\n",
    "    trends_state[\"state\"] = state\n",
    "    trends_data = pd.concat([trends_data, trends_state])"
   ]
  },
  {
   "cell_type": "code",
   "execution_count": null,
   "metadata": {},
   "outputs": [],
   "source": [
    "trends_data.state.value_counts()"
   ]
  },
  {
   "cell_type": "code",
   "execution_count": null,
   "metadata": {},
   "outputs": [],
   "source": [
    "# getting data for NY\n",
    "kw_list = [\"fever\", \"flu\", \"cough\", \"sore throat\", \"headache\"]\n",
    "pytrends.build_payload(kw_list, cat=0, timeframe=\"2014-09-29 2019-07-07\", geo='US-NY')\n",
    "trends_ny = pytrends.interest_over_time()\n",
    "trends_ny = trends_ny.drop(\"isPartial\", axis=1)"
   ]
  },
  {
   "cell_type": "code",
   "execution_count": null,
   "metadata": {
    "scrolled": true
   },
   "outputs": [],
   "source": [
    "trends_ny.plot(figsize=(20,10))"
   ]
  },
  {
   "cell_type": "code",
   "execution_count": null,
   "metadata": {},
   "outputs": [],
   "source": [
    "ili_ny = ili.loc[ili[\"region\"]==\"New York\",:]"
   ]
  },
  {
   "cell_type": "code",
   "execution_count": null,
   "metadata": {},
   "outputs": [],
   "source": [
    "trends_ny.head()"
   ]
  },
  {
   "cell_type": "code",
   "execution_count": null,
   "metadata": {},
   "outputs": [],
   "source": [
    "ili_ny[\"date\"] = pd.to_datetime(ili_ny.week.astype(str) + ili_ny.year.astype(str).add(\"-0\"), format=\"%W%Y-%w\")\n",
    "ili_ny[ili_ny[\"year\"]==2015]\n",
    "# get datetimeindex from Date column\n",
    "ili_ny.set_index(\"date\", inplace=True)"
   ]
  },
  {
   "cell_type": "code",
   "execution_count": null,
   "metadata": {},
   "outputs": [],
   "source": [
    "trends_ny.head()"
   ]
  },
  {
   "cell_type": "markdown",
   "metadata": {},
   "source": [
    "## Analysis of ILI rates and Google Trends"
   ]
  },
  {
   "cell_type": "code",
   "execution_count": null,
   "metadata": {},
   "outputs": [],
   "source": [
    "# merge the dataframes on the Datetimeindex\n",
    "merged = trends_ny.join(ili_ny)"
   ]
  },
  {
   "cell_type": "code",
   "execution_count": null,
   "metadata": {},
   "outputs": [],
   "source": [
    "merged.head()"
   ]
  },
  {
   "cell_type": "code",
   "execution_count": null,
   "metadata": {},
   "outputs": [],
   "source": [
    "merged = merged.dropna(axis=0)\n",
    "merged.head()"
   ]
  },
  {
   "cell_type": "code",
   "execution_count": null,
   "metadata": {},
   "outputs": [],
   "source": [
    "merged[\"wordlist\"] = merged.fever + merged.flu + merged.cough + merged[\"sore throat\"] + merged.headache"
   ]
  },
  {
   "cell_type": "code",
   "execution_count": null,
   "metadata": {},
   "outputs": [],
   "source": [
    "fig, axes = plt.subplots(nrows=3, ncols=2, sharex=True, sharey=True, figsize=(15,15))\n",
    "\n",
    "merged.reset_index().plot(x=\"date\", y=[\"unweighted_ili\", \"fever\"], ax=axes[0,0])\n",
    "merged.reset_index().plot(x=\"date\", y=[\"unweighted_ili\", \"flu\"], ax=axes[0,1])\n",
    "merged.reset_index().plot(x=\"date\", y=[\"unweighted_ili\", \"cough\"], ax=axes[1,0])\n",
    "merged.reset_index().plot(x=\"date\", y=[\"unweighted_ili\", \"sore throat\"], ax=axes[1,1])\n",
    "merged.reset_index().plot(x=\"date\", y=[\"unweighted_ili\", \"headache\"], ax=axes[2,0])\n",
    "merged.reset_index().plot(x=\"date\", y=[\"unweighted_ili\", \"wordlist\"], ax=axes[2,1])\n",
    "plt.tight_layout()"
   ]
  },
  {
   "cell_type": "code",
   "execution_count": null,
   "metadata": {},
   "outputs": [],
   "source": [
    "for var in [\"flu\", \"fever\", \"cough\", \"sore throat\", \"headache\", \"wordlist\"]:\n",
    "    print(\"Corr. Coef. between unweighted_ili and \" + var + \": \" + str(merged[\"unweighted_ili\"].corr(merged[var])))"
   ]
  },
  {
   "cell_type": "markdown",
   "metadata": {},
   "source": [
    "## Correlation with lagged ili rates"
   ]
  },
  {
   "cell_type": "code",
   "execution_count": null,
   "metadata": {},
   "outputs": [],
   "source": [
    "# ili_ny: dates are in year + week; conversion into dates seems wrong? e.g. for 2015 the first week ends on Sunday the 4th of January \n",
    "ili_ny[ili_ny.year==2015]\n",
    "ili_ny_shifted = ili_ny.shift(-1, freq='W')\n",
    "\n",
    "# create merged data frame\n",
    "merged_shifted = trends_ny.join(ili_ny_shifted)\n",
    "merged_shifted = merged_shifted.dropna(axis=0)\n",
    "merged_shifted[\"wordlist\"] = merged_shifted.fever + merged_shifted.flu + merged_shifted.cough + merged_shifted[\"sore throat\"] + merged_shifted.headache\n",
    "merged_shifted.head()"
   ]
  },
  {
   "cell_type": "code",
   "execution_count": null,
   "metadata": {},
   "outputs": [],
   "source": [
    "for var in [\"flu\", \"fever\", \"cough\", \"sore throat\", \"headache\", \"wordlist\"]:\n",
    "    print(\"Corr. Coef. between unweighted_ili and \" + var + \": \" + str(merged_shifted[\"unweighted_ili\"].corr(merged_shifted[var])))"
   ]
  },
  {
   "cell_type": "markdown",
   "metadata": {},
   "source": [
    "The correlation is higher for the shifted ili_ny datasets. This indicates that the conversion of week numbers into specific dates was actually wrong."
   ]
  },
  {
   "cell_type": "code",
   "execution_count": null,
   "metadata": {},
   "outputs": [],
   "source": [
    "fig, axes = plt.subplots(nrows=3, ncols=2, sharex=True, sharey=True, figsize=(15,15))\n",
    "\n",
    "merged_shifted.reset_index().plot(x=\"date\", y=[\"unweighted_ili\", \"fever\"], ax=axes[0,0])\n",
    "merged_shifted.reset_index().plot(x=\"date\", y=[\"unweighted_ili\", \"flu\"], ax=axes[0,1])\n",
    "merged_shifted.reset_index().plot(x=\"date\", y=[\"unweighted_ili\", \"cough\"], ax=axes[1,0])\n",
    "merged_shifted.reset_index().plot(x=\"date\", y=[\"unweighted_ili\", \"sore throat\"], ax=axes[1,1])\n",
    "merged_shifted.reset_index().plot(x=\"date\", y=[\"unweighted_ili\", \"headache\"], ax=axes[2,0])\n",
    "merged_shifted.reset_index().plot(x=\"date\", y=[\"unweighted_ili\", \"wordlist\"], ax=axes[2,1])\n",
    "plt.tight_layout()"
   ]
  },
  {
   "cell_type": "markdown",
   "metadata": {},
   "source": [
    "## Looking at national level data"
   ]
  },
  {
   "cell_type": "code",
   "execution_count": null,
   "metadata": {
    "scrolled": true
   },
   "outputs": [],
   "source": [
    "ili_us = pd.read_csv(\"ili_national_level.csv\", header=0)\n",
    "# setting the date as datetimeindex\n",
    "ili_us[\"date\"] = pd.to_datetime(ili_us.week.astype(str) + ili_us.year.astype(str).add(\"-0\"), format=\"%W%Y-%w\")\n",
    "ili_us.set_index(\"date\", inplace=True)\n",
    "# shifting the datetimeindex one week back\n",
    "ili_us_shifted = ili_us.shift(-1, freq='W')"
   ]
  },
  {
   "cell_type": "code",
   "execution_count": null,
   "metadata": {},
   "outputs": [],
   "source": [
    "pytrends = TrendReq(hl='en-US', tz=360)"
   ]
  },
  {
   "cell_type": "code",
   "execution_count": null,
   "metadata": {},
   "outputs": [],
   "source": [
    "# getting google Trends data\n",
    "kw_list = [\"fever\", \"flu\", \"cough\", \"sore throat\", \"headache\"]\n",
    "pytrends.build_payload(kw_list, cat=0, timeframe=\"2014-09-29 2019-07-07\", geo='US')\n",
    "trends_us = pytrends.interest_over_time()\n",
    "trends_us = trends_us.drop(\"isPartial\", axis=1)"
   ]
  },
  {
   "cell_type": "code",
   "execution_count": null,
   "metadata": {},
   "outputs": [],
   "source": [
    "# merge the dataframes on the Datetimeindex\n",
    "merged_us = trends_us.join(ili_us_shifted)\n",
    "merged_us[\"wordlist\"] = merged_us.fever + merged_us.flu + merged_us.cough + merged_us[\"sore throat\"] + merged_us.headache"
   ]
  },
  {
   "cell_type": "code",
   "execution_count": null,
   "metadata": {},
   "outputs": [],
   "source": [
    "for var in [\"flu\", \"fever\", \"cough\", \"sore throat\", \"headache\", \"wordlist\"]:\n",
    "    print(\"Corr. Coef. between unweighted_ili and \" + var + \": \" + str(merged_us[\"unweighted_ili\"].corr(merged_us[var])))"
   ]
  },
  {
   "cell_type": "code",
   "execution_count": null,
   "metadata": {},
   "outputs": [],
   "source": [
    "fig, axes = plt.subplots(nrows=3, ncols=2, sharex=True, sharey=True, figsize=(15,15))\n",
    "\n",
    "merged_us.reset_index().plot(x=\"date\", y=[\"unweighted_ili\", \"fever\"], ax=axes[0,0])\n",
    "merged_us.reset_index().plot(x=\"date\", y=[\"unweighted_ili\", \"flu\"], ax=axes[0,1])\n",
    "merged_us.reset_index().plot(x=\"date\", y=[\"unweighted_ili\", \"cough\"], ax=axes[1,0])\n",
    "merged_us.reset_index().plot(x=\"date\", y=[\"unweighted_ili\", \"sore throat\"], ax=axes[1,1])\n",
    "merged_us.reset_index().plot(x=\"date\", y=[\"unweighted_ili\", \"headache\"], ax=axes[2,0])\n",
    "merged_us.reset_index().plot(x=\"date\", y=[\"unweighted_ili\", \"wordlist\"], ax=axes[2,1])\n",
    "plt.tight_layout()"
   ]
  },
  {
   "cell_type": "markdown",
   "metadata": {},
   "source": [
    "## Time Series Analysis"
   ]
  },
  {
   "cell_type": "code",
   "execution_count": 21,
   "metadata": {},
   "outputs": [],
   "source": [
    "kw_list = [\"fever\", \"flu\", \"cough\", \"headache\", \"sore throat\"]\n",
    "ili = get_usdata(kw_list=kw_list)"
   ]
  },
  {
   "cell_type": "markdown",
   "metadata": {},
   "source": [
    "### Stationarity of time series"
   ]
  },
  {
   "cell_type": "code",
   "execution_count": 16,
   "metadata": {},
   "outputs": [
    {
     "name": "stdout",
     "output_type": "stream",
     "text": [
      "Series: fever\n",
      "ADF Statistic: -4.232063\n",
      "p-value: 0.000581\n",
      "Critical Values:\n",
      "\t1%: -3.458\n",
      "\t5%: -2.874\n",
      "\t10%: -2.573\n",
      "\n",
      "\n",
      "Series: flu\n",
      "ADF Statistic: -3.460332\n",
      "p-value: 0.009066\n",
      "Critical Values:\n",
      "\t1%: -3.458\n",
      "\t5%: -2.874\n",
      "\t10%: -2.573\n",
      "\n",
      "\n",
      "Series: cough\n",
      "ADF Statistic: -4.267846\n",
      "p-value: 0.000505\n",
      "Critical Values:\n",
      "\t1%: -3.458\n",
      "\t5%: -2.874\n",
      "\t10%: -2.573\n",
      "\n",
      "\n",
      "Series: sore throat\n",
      "ADF Statistic: -4.271031\n",
      "p-value: 0.000498\n",
      "Critical Values:\n",
      "\t1%: -3.459\n",
      "\t5%: -2.874\n",
      "\t10%: -2.574\n",
      "\n",
      "\n",
      "Series: headache\n",
      "ADF Statistic: -1.970993\n",
      "p-value: 0.299434\n",
      "Critical Values:\n",
      "\t1%: -3.458\n",
      "\t5%: -2.874\n",
      "\t10%: -2.573\n",
      "\n",
      "\n",
      "Series: unweighted_ili\n",
      "ADF Statistic: -4.119059\n",
      "p-value: 0.000901\n",
      "Critical Values:\n",
      "\t1%: -3.458\n",
      "\t5%: -2.874\n",
      "\t10%: -2.573\n",
      "\n",
      "\n"
     ]
    }
   ],
   "source": [
    "# using ADF test; H0: unit root -> no stationarity\n",
    "from statsmodels.tsa.stattools import adfuller\n",
    "for series in [\"fever\", \"flu\", \"cough\", \"sore throat\", \"headache\", \"unweighted_ili\"]:\n",
    "    adf = adfuller(ili[series])\n",
    "    print(\"Series: \" + str(series))\n",
    "    print('ADF Statistic: %f' % adf[0])\n",
    "    print('p-value: %f' % adf[1])\n",
    "    print('Critical Values:')\n",
    "    for key, value in adf[4].items():\n",
    "        print('\\t%s: %.3f' % (key, value))\n",
    "    print(\"\\n\")"
   ]
  },
  {
   "cell_type": "markdown",
   "metadata": {},
   "source": [
    "For all series except \"Headache\" we can reject the null hypothesis of a unit root using the ADF test. Thus, it indicates that the time series are stationary."
   ]
  },
  {
   "cell_type": "code",
   "execution_count": 29,
   "metadata": {},
   "outputs": [
    {
     "name": "stdout",
     "output_type": "stream",
     "text": [
      "fever\n",
      "Results of KPSS Test:\n",
      "Test Statistic            0.28309\n",
      "p-value                   0.10000\n",
      "Lags Used                16.00000\n",
      "Critical Value (10%)      0.34700\n",
      "Critical Value (5%)       0.46300\n",
      "Critical Value (2.5%)     0.57400\n",
      "Critical Value (1%)       0.73900\n",
      "dtype: float64\n",
      "\n",
      "\n",
      "flu\n",
      "Results of KPSS Test:\n",
      "Test Statistic            0.17148\n",
      "p-value                   0.10000\n",
      "Lags Used                16.00000\n",
      "Critical Value (10%)      0.34700\n",
      "Critical Value (5%)       0.46300\n",
      "Critical Value (2.5%)     0.57400\n",
      "Critical Value (1%)       0.73900\n",
      "dtype: float64\n",
      "\n",
      "\n",
      "cough\n",
      "Results of KPSS Test:\n",
      "Test Statistic            0.324806\n",
      "p-value                   0.100000\n",
      "Lags Used                16.000000\n",
      "Critical Value (10%)      0.347000\n",
      "Critical Value (5%)       0.463000\n",
      "Critical Value (2.5%)     0.574000\n",
      "Critical Value (1%)       0.739000\n",
      "dtype: float64\n",
      "\n",
      "\n",
      "sore throat\n",
      "Results of KPSS Test:\n",
      "Test Statistic            0.492471\n",
      "p-value                   0.043362\n",
      "Lags Used                16.000000\n",
      "Critical Value (10%)      0.347000\n",
      "Critical Value (5%)       0.463000\n",
      "Critical Value (2.5%)     0.574000\n",
      "Critical Value (1%)       0.739000\n",
      "dtype: float64\n",
      "\n",
      "\n",
      "headache\n",
      "Results of KPSS Test:\n",
      "Test Statistic            1.376961\n",
      "p-value                   0.010000\n",
      "Lags Used                16.000000\n",
      "Critical Value (10%)      0.347000\n",
      "Critical Value (5%)       0.463000\n",
      "Critical Value (2.5%)     0.574000\n",
      "Critical Value (1%)       0.739000\n",
      "dtype: float64\n",
      "\n",
      "\n",
      "unweighted_ili\n",
      "Results of KPSS Test:\n",
      "Test Statistic            0.101993\n",
      "p-value                   0.100000\n",
      "Lags Used                16.000000\n",
      "Critical Value (10%)      0.347000\n",
      "Critical Value (5%)       0.463000\n",
      "Critical Value (2.5%)     0.574000\n",
      "Critical Value (1%)       0.739000\n",
      "dtype: float64\n",
      "\n",
      "\n"
     ]
    },
    {
     "name": "stderr",
     "output_type": "stream",
     "text": [
      "C:\\Users\\Tobi\\Anaconda3\\lib\\site-packages\\statsmodels\\tsa\\stattools.py:1278: InterpolationWarning: p-value is greater than the indicated p-value\n",
      "  warn(\"p-value is greater than the indicated p-value\", InterpolationWarning)\n",
      "C:\\Users\\Tobi\\Anaconda3\\lib\\site-packages\\statsmodels\\tsa\\stattools.py:1278: InterpolationWarning: p-value is greater than the indicated p-value\n",
      "  warn(\"p-value is greater than the indicated p-value\", InterpolationWarning)\n",
      "C:\\Users\\Tobi\\Anaconda3\\lib\\site-packages\\statsmodels\\tsa\\stattools.py:1278: InterpolationWarning: p-value is greater than the indicated p-value\n",
      "  warn(\"p-value is greater than the indicated p-value\", InterpolationWarning)\n",
      "C:\\Users\\Tobi\\Anaconda3\\lib\\site-packages\\statsmodels\\tsa\\stattools.py:1276: InterpolationWarning: p-value is smaller than the indicated p-value\n",
      "  warn(\"p-value is smaller than the indicated p-value\", InterpolationWarning)\n",
      "C:\\Users\\Tobi\\Anaconda3\\lib\\site-packages\\statsmodels\\tsa\\stattools.py:1278: InterpolationWarning: p-value is greater than the indicated p-value\n",
      "  warn(\"p-value is greater than the indicated p-value\", InterpolationWarning)\n"
     ]
    }
   ],
   "source": [
    "#kpss test; H0: trend stationarity; H1: unit root, i.e. no stationarity\n",
    "# test statistic > critical value -> reject H0\n",
    "#define function for kpss test\n",
    "from statsmodels.tsa.stattools import kpss\n",
    "#define KPSS\n",
    "def kpss_test(timeseries):\n",
    "    print ('Results of KPSS Test:')\n",
    "    kpsstest = kpss(timeseries, regression='c')\n",
    "    kpss_output = pd.Series(kpsstest[0:3], index=['Test Statistic','p-value','Lags Used'])\n",
    "    for key,value in kpsstest[3].items():\n",
    "        kpss_output['Critical Value (%s)'%key] = value\n",
    "    print(kpss_output)\n",
    "    \n",
    "for series in [\"fever\", \"flu\", \"cough\", \"sore throat\", \"headache\", \"unweighted_ili\"]:\n",
    "    print(series)\n",
    "    kpss_test(ili[series])\n",
    "    print(\"\\n\")"
   ]
  },
  {
   "cell_type": "markdown",
   "metadata": {},
   "source": [
    "Both the ADF test and the KPSS test indicate that the time series are stationary, since we cannot reject the null hypothesis of stationarity."
   ]
  },
  {
   "cell_type": "markdown",
   "metadata": {},
   "source": [
    "## Modeling"
   ]
  },
  {
   "cell_type": "code",
   "execution_count": 22,
   "metadata": {},
   "outputs": [
    {
     "name": "stdout",
     "output_type": "stream",
     "text": [
      "Fit ARIMA: order=(2, 0, 2) seasonal_order=(0, 0, 0, 1); AIC=-25.681, BIC=-7.382, Fit time=0.603 seconds\n",
      "Fit ARIMA: order=(0, 0, 0) seasonal_order=(0, 0, 0, 1); AIC=455.497, BIC=461.597, Fit time=0.052 seconds\n",
      "Fit ARIMA: order=(1, 0, 0) seasonal_order=(0, 0, 0, 1); AIC=28.791, BIC=37.941, Fit time=0.116 seconds\n",
      "Fit ARIMA: order=(0, 0, 1) seasonal_order=(0, 0, 0, 1); AIC=nan, BIC=nan, Fit time=nan seconds\n"
     ]
    },
    {
     "name": "stderr",
     "output_type": "stream",
     "text": [
      "C:\\Users\\Tobi\\Anaconda3\\lib\\site-packages\\statsmodels\\tsa\\statespace\\representation.py:375: FutureWarning: Using a non-tuple sequence for multidimensional indexing is deprecated; use `arr[tuple(seq)]` instead of `arr[seq]`. In the future this will be interpreted as an array index, `arr[np.array(seq)]`, which will result either in an error or a different result.\n",
      "  return matrix[[slice(None)]*(matrix.ndim-1) + [0]]\n"
     ]
    },
    {
     "name": "stdout",
     "output_type": "stream",
     "text": [
      "Fit ARIMA: order=(1, 0, 2) seasonal_order=(0, 0, 0, 1); AIC=-15.939, BIC=-0.690, Fit time=0.355 seconds\n",
      "Fit ARIMA: order=(3, 0, 2) seasonal_order=(0, 0, 0, 1); AIC=nan, BIC=nan, Fit time=nan seconds\n",
      "Fit ARIMA: order=(2, 0, 1) seasonal_order=(0, 0, 0, 1); AIC=-18.315, BIC=-3.066, Fit time=0.323 seconds\n",
      "Fit ARIMA: order=(2, 0, 3) seasonal_order=(0, 0, 0, 1); AIC=nan, BIC=nan, Fit time=nan seconds\n",
      "Fit ARIMA: order=(1, 0, 1) seasonal_order=(0, 0, 0, 1); AIC=-11.232, BIC=0.968, Fit time=0.172 seconds\n",
      "Fit ARIMA: order=(3, 0, 3) seasonal_order=(0, 0, 0, 1); AIC=nan, BIC=nan, Fit time=nan seconds\n",
      "Total fit time: 1.689 seconds\n"
     ]
    },
    {
     "data": {
      "image/png": "[encoded data removed]",
      "text/plain": [
       "<Figure size 432x288 with 1 Axes>"
      ]
     },
     "metadata": {
      "needs_background": "light"
     },
     "output_type": "display_data"
    }
   ],
   "source": [
    "# first test using Auto Arima\n",
    "data = ili[\"unweighted_ili\"]\n",
    "train, test = data[:156], data[156:]\n",
    "\n",
    "arima = pm.auto_arima(train, error_action='ignore', trace=1,\n",
    "                      seasonal=True)\n",
    "\n",
    "# Plot actual test vs. forecasts:\n",
    "x = np.arange(test.shape[0])\n",
    "plt.scatter(x, test, marker='x')\n",
    "plt.plot(x, arima.predict(n_periods=test.shape[0]))\n",
    "plt.title('Actual test samples vs. forecasts')\n",
    "plt.show()"
   ]
  },
  {
   "cell_type": "code",
   "execution_count": 23,
   "metadata": {
    "scrolled": true
   },
   "outputs": [
    {
     "name": "stderr",
     "output_type": "stream",
     "text": [
      "C:\\Users\\Tobi\\Anaconda3\\lib\\site-packages\\statsmodels\\tsa\\holtwinters.py:322: FutureWarning: Addition/subtraction of integers and integer-arrays to Timestamp is deprecated, will be removed in a future version.  Instead of adding/subtracting `n`, use `n * self.freq`\n",
      "  start = self.model._index[-1] + 1\n",
      "C:\\Users\\Tobi\\Anaconda3\\lib\\site-packages\\statsmodels\\tsa\\holtwinters.py:323: FutureWarning: Addition/subtraction of integers and integer-arrays to Timestamp is deprecated, will be removed in a future version.  Instead of adding/subtracting `n`, use `n * self.freq`\n",
      "  end = self.model._index[-1] + steps\n",
      "C:\\Users\\Tobi\\Anaconda3\\lib\\site-packages\\statsmodels\\tsa\\base\\tsa_model.py:336: FutureWarning: Creating a DatetimeIndex by passing range endpoints is deprecated.  Use `pandas.date_range` instead.\n",
      "  freq=base_index.freq)\n",
      "C:\\Users\\Tobi\\Anaconda3\\lib\\site-packages\\pandas\\plotting\\_converter.py:129: FutureWarning: Using an implicitly registered datetime converter for a matplotlib plotting method. The converter was registered by pandas on import. Future versions of pandas will require you to explicitly register matplotlib converters.\n",
      "\n",
      "To register the converters:\n",
      "\t>>> from pandas.plotting import register_matplotlib_converters\n",
      "\t>>> register_matplotlib_converters()\n",
      "  warnings.warn(msg, FutureWarning)\n"
     ]
    },
    {
     "data": {
      "text/plain": [
       "Text(0.5, 1.0, \"Holt-Winter's Seasonal Smoothing\")"
      ]
     },
     "execution_count": 23,
     "metadata": {},
     "output_type": "execute_result"
    },
    {
     "data": {
      "image/png": "[encoded data removed]",
      "text/plain": [
       "<Figure size 1080x864 with 1 Axes>"
      ]
     },
     "metadata": {
      "needs_background": "light"
     },
     "output_type": "display_data"
    }
   ],
   "source": [
    "# trying Holt-Winter's exponential smoothing\n",
    "from statsmodels.tsa.holtwinters import ExponentialSmoothing\n",
    "\n",
    "data = ili[\"unweighted_ili\"]\n",
    "train, test = data[:182], data[182:]\n",
    "\n",
    "model = ExponentialSmoothing(train, trend=\"add\", seasonal=\"add\", seasonal_periods=52)\n",
    "model2 = ExponentialSmoothing(train, trend=\"add\", seasonal=\"add\", seasonal_periods=52, damped=True)\n",
    "fit = model.fit()\n",
    "pred = fit.forecast(49)\n",
    "fit2 = model2.fit()\n",
    "pred2 = fit2.forecast(49)\n",
    "\n",
    "sse1 = np.sqrt(np.mean(np.square(test.values - pred.values)))\n",
    "sse2 = np.sqrt(np.mean(np.square(test.values - pred2.values)))\n",
    "\n",
    "fig, ax = plt.subplots(figsize=(15, 12))\n",
    "ax.plot(train.index[60:], train.values[60:]);\n",
    "ax.plot(test.index, test.values, label='truth');\n",
    "ax.plot(test.index, pred, linestyle='--', color='#2332ff', label=\"not damped\");\n",
    "ax.plot(test.index, pred2, linestyle='--', color='#3c763d', label=\"damped\"); \n",
    "ax.legend();\n",
    "ax.set_title(\"Holt-Winter's Seasonal Smoothing\")"
   ]
  },
  {
   "cell_type": "code",
   "execution_count": 24,
   "metadata": {},
   "outputs": [
    {
     "name": "stdout",
     "output_type": "stream",
     "text": [
      "ARMA(p,q) = (4, 1) is the best.\n"
     ]
    },
    {
     "name": "stderr",
     "output_type": "stream",
     "text": [
      "C:\\Users\\Tobi\\Anaconda3\\lib\\site-packages\\statsmodels\\base\\model.py:508: ConvergenceWarning: Maximum Likelihood optimization failed to converge. Check mle_retvals\n",
      "  \"Check mle_retvals\", ConvergenceWarning)\n"
     ]
    }
   ],
   "source": [
    "# Seasonal ARIMA - SARIMA\n",
    "# find best p and q order\n",
    "res = sm.tsa.arma_order_select_ic(train.dropna(), ic=['aic', 'bic'])\n",
    "print('ARMA(p,q) =',res['aic_min_order'],'is the best.')"
   ]
  },
  {
   "cell_type": "code",
   "execution_count": 169,
   "metadata": {},
   "outputs": [
    {
     "name": "stdout",
     "output_type": "stream",
     "text": [
      "date\n",
      "2018-07-08    0.771497\n",
      "Freq: W-SUN, Name: unweighted_ili, dtype: float64\n",
      "date\n",
      "2019-06-09    1.25311\n",
      "Freq: W-SUN, Name: unweighted_ili, dtype: float64\n"
     ]
    },
    {
     "data": {
      "text/plain": [
       "(None, None)"
      ]
     },
     "execution_count": 169,
     "metadata": {},
     "output_type": "execute_result"
    }
   ],
   "source": [
    "print(test.head(1)), print(test.tail(1))"
   ]
  },
  {
   "cell_type": "code",
   "execution_count": 25,
   "metadata": {},
   "outputs": [
    {
     "data": {
      "text/plain": [
       "<matplotlib.axes._subplots.AxesSubplot at 0x1fa02903588>"
      ]
     },
     "execution_count": 25,
     "metadata": {},
     "output_type": "execute_result"
    },
    {
     "data": {
      "image/png": "[encoded data removed]",
      "text/plain": [
       "<Figure size 432x288 with 1 Axes>"
      ]
     },
     "metadata": {
      "needs_background": "light"
     },
     "output_type": "display_data"
    }
   ],
   "source": [
    "arima = sm.tsa.statespace.SARIMAX(train.dropna(), order=(4,1,1),freq='W',seasonal_order=(0,0,0,0), enforce_stationarity=False, enforce_invertibility=False).fit()\n",
    "pred_arima = arima.predict(\"2018-07-08\", \"2019-06-09\")[1:]\n",
    "pd.DataFrame({'test':test,'pred':pred_arima}).plot()"
   ]
  },
  {
   "cell_type": "code",
   "execution_count": 26,
   "metadata": {},
   "outputs": [
    {
     "data": {
      "text/plain": [
       "<matplotlib.axes._subplots.AxesSubplot at 0x1fa03011390>"
      ]
     },
     "execution_count": 26,
     "metadata": {},
     "output_type": "execute_result"
    },
    {
     "data": {
      "image/png": "[encoded data removed]",
      "text/plain": [
       "<Figure size 432x288 with 1 Axes>"
      ]
     },
     "metadata": {
      "needs_background": "light"
     },
     "output_type": "display_data"
    }
   ],
   "source": [
    "sarima = sm.tsa.statespace.SARIMAX(train,order=(4,1,1),seasonal_order=(0,0,0,1), enforce_stationarity=False, enforce_invertibility=False,freq='W').fit()\n",
    "pred_sarima = sarima.predict(\"2018-07-08\", \"2019-06-09\")[1:]\n",
    "pd.DataFrame({'test':test,'pred':pred_sarima}).plot()"
   ]
  },
  {
   "cell_type": "code",
   "execution_count": 27,
   "metadata": {},
   "outputs": [],
   "source": [
    "# create dataframes containing additional covariates\n",
    "ili = add_weekdummies(ili)\n",
    "train_exog = ili.drop(['unweighted_ili','Unnamed: 0', 'region_type', 'region', 'year', 'weighted_ili', 'age_0_4', 'age_25_49', 'age_25_64', 'age_5_24', 'age_50_64', 'age_65', 'ilitotal', 'num_of_providers', 'total_patients', 'week_start'], axis=1)[:182]\n",
    "test_exog = ili.drop(['unweighted_ili', 'Unnamed: 0', 'region_type', 'region', 'year', 'weighted_ili', 'age_0_4', 'age_25_49', 'age_25_64', 'age_5_24', 'age_50_64', 'age_65', 'ilitotal', 'num_of_providers', 'total_patients', 'week_start'], axis=1)[182:]"
   ]
  },
  {
   "cell_type": "code",
   "execution_count": 28,
   "metadata": {},
   "outputs": [
    {
     "name": "stderr",
     "output_type": "stream",
     "text": [
      "C:\\Users\\Tobi\\Anaconda3\\lib\\site-packages\\statsmodels\\base\\model.py:508: ConvergenceWarning: Maximum Likelihood optimization failed to converge. Check mle_retvals\n",
      "  \"Check mle_retvals\", ConvergenceWarning)\n"
     ]
    },
    {
     "ename": "ValueError",
     "evalue": "Provided exogenous values are not of the appropriate shape. Required (49, 56), got (182, 56).",
     "output_type": "error",
     "traceback": [
      "\u001b[1;31m---------------------------------------------------------------------------\u001b[0m",
      "\u001b[1;31mValueError\u001b[0m                                Traceback (most recent call last)",
      "\u001b[1;32m<ipython-input-28-c7783169f9c8>\u001b[0m in \u001b[0;36m<module>\u001b[1;34m\u001b[0m\n\u001b[0;32m      1\u001b[0m \u001b[1;31m# SARIMAX\u001b[0m\u001b[1;33m\u001b[0m\u001b[1;33m\u001b[0m\u001b[1;33m\u001b[0m\u001b[0m\n\u001b[0;32m      2\u001b[0m \u001b[0msarimax\u001b[0m \u001b[1;33m=\u001b[0m \u001b[0msm\u001b[0m\u001b[1;33m.\u001b[0m\u001b[0mtsa\u001b[0m\u001b[1;33m.\u001b[0m\u001b[0mstatespace\u001b[0m\u001b[1;33m.\u001b[0m\u001b[0mSARIMAX\u001b[0m\u001b[1;33m(\u001b[0m\u001b[0mtrain\u001b[0m\u001b[1;33m,\u001b[0m\u001b[0morder\u001b[0m\u001b[1;33m=\u001b[0m\u001b[1;33m(\u001b[0m\u001b[1;36m4\u001b[0m\u001b[1;33m,\u001b[0m\u001b[1;36m1\u001b[0m\u001b[1;33m,\u001b[0m\u001b[1;36m1\u001b[0m\u001b[1;33m)\u001b[0m\u001b[1;33m,\u001b[0m\u001b[0mseasonal_order\u001b[0m\u001b[1;33m=\u001b[0m\u001b[1;33m(\u001b[0m\u001b[1;36m0\u001b[0m\u001b[1;33m,\u001b[0m\u001b[1;36m0\u001b[0m\u001b[1;33m,\u001b[0m\u001b[1;36m0\u001b[0m\u001b[1;33m,\u001b[0m\u001b[1;36m1\u001b[0m\u001b[1;33m)\u001b[0m\u001b[1;33m,\u001b[0m\u001b[0mexog\u001b[0m \u001b[1;33m=\u001b[0m \u001b[0mtrain_exog\u001b[0m\u001b[1;33m,\u001b[0m \u001b[0menforce_stationarity\u001b[0m\u001b[1;33m=\u001b[0m\u001b[1;32mFalse\u001b[0m\u001b[1;33m,\u001b[0m \u001b[0menforce_invertibility\u001b[0m\u001b[1;33m=\u001b[0m\u001b[1;32mFalse\u001b[0m\u001b[1;33m,\u001b[0m\u001b[0mfreq\u001b[0m\u001b[1;33m=\u001b[0m\u001b[1;34m'W'\u001b[0m\u001b[1;33m)\u001b[0m\u001b[1;33m.\u001b[0m\u001b[0mfit\u001b[0m\u001b[1;33m(\u001b[0m\u001b[1;33m)\u001b[0m\u001b[1;33m\u001b[0m\u001b[1;33m\u001b[0m\u001b[0m\n\u001b[1;32m----> 3\u001b[1;33m \u001b[0mpred_sarimax\u001b[0m \u001b[1;33m=\u001b[0m \u001b[0msarimax\u001b[0m\u001b[1;33m.\u001b[0m\u001b[0mpredict\u001b[0m\u001b[1;33m(\u001b[0m\u001b[1;34m\"2018-07-08\"\u001b[0m\u001b[1;33m,\u001b[0m \u001b[1;34m\"2019-06-09\"\u001b[0m\u001b[1;33m,\u001b[0m \u001b[0mexog\u001b[0m \u001b[1;33m=\u001b[0m \u001b[0mtrain_exog\u001b[0m\u001b[1;33m)\u001b[0m\u001b[1;33m[\u001b[0m\u001b[1;36m1\u001b[0m\u001b[1;33m:\u001b[0m\u001b[1;33m]\u001b[0m\u001b[1;33m\u001b[0m\u001b[1;33m\u001b[0m\u001b[0m\n\u001b[0m\u001b[0;32m      4\u001b[0m \u001b[0mpd\u001b[0m\u001b[1;33m.\u001b[0m\u001b[0mDataFrame\u001b[0m\u001b[1;33m(\u001b[0m\u001b[1;33m{\u001b[0m\u001b[1;34m'test'\u001b[0m\u001b[1;33m:\u001b[0m\u001b[0mtest\u001b[0m\u001b[1;33m,\u001b[0m\u001b[1;34m'pred'\u001b[0m\u001b[1;33m:\u001b[0m\u001b[0mpred_sarimax\u001b[0m\u001b[1;33m}\u001b[0m\u001b[1;33m)\u001b[0m\u001b[1;33m.\u001b[0m\u001b[0mplot\u001b[0m\u001b[1;33m(\u001b[0m\u001b[1;33m)\u001b[0m\u001b[1;33m\u001b[0m\u001b[1;33m\u001b[0m\u001b[0m\n",
      "\u001b[1;32m~\\Anaconda3\\lib\\site-packages\\statsmodels\\base\\wrapper.py\u001b[0m in \u001b[0;36mwrapper\u001b[1;34m(self, *args, **kwargs)\u001b[0m\n\u001b[0;32m     93\u001b[0m             \u001b[0mobj\u001b[0m \u001b[1;33m=\u001b[0m \u001b[0mdata\u001b[0m\u001b[1;33m.\u001b[0m\u001b[0mwrap_output\u001b[0m\u001b[1;33m(\u001b[0m\u001b[0mfunc\u001b[0m\u001b[1;33m(\u001b[0m\u001b[0mresults\u001b[0m\u001b[1;33m,\u001b[0m \u001b[1;33m*\u001b[0m\u001b[0margs\u001b[0m\u001b[1;33m,\u001b[0m \u001b[1;33m**\u001b[0m\u001b[0mkwargs\u001b[0m\u001b[1;33m)\u001b[0m\u001b[1;33m,\u001b[0m \u001b[0mhow\u001b[0m\u001b[1;33m[\u001b[0m\u001b[1;36m0\u001b[0m\u001b[1;33m]\u001b[0m\u001b[1;33m,\u001b[0m \u001b[0mhow\u001b[0m\u001b[1;33m[\u001b[0m\u001b[1;36m1\u001b[0m\u001b[1;33m:\u001b[0m\u001b[1;33m]\u001b[0m\u001b[1;33m)\u001b[0m\u001b[1;33m\u001b[0m\u001b[1;33m\u001b[0m\u001b[0m\n\u001b[0;32m     94\u001b[0m         \u001b[1;32melif\u001b[0m \u001b[0mhow\u001b[0m\u001b[1;33m:\u001b[0m\u001b[1;33m\u001b[0m\u001b[1;33m\u001b[0m\u001b[0m\n\u001b[1;32m---> 95\u001b[1;33m             \u001b[0mobj\u001b[0m \u001b[1;33m=\u001b[0m \u001b[0mdata\u001b[0m\u001b[1;33m.\u001b[0m\u001b[0mwrap_output\u001b[0m\u001b[1;33m(\u001b[0m\u001b[0mfunc\u001b[0m\u001b[1;33m(\u001b[0m\u001b[0mresults\u001b[0m\u001b[1;33m,\u001b[0m \u001b[1;33m*\u001b[0m\u001b[0margs\u001b[0m\u001b[1;33m,\u001b[0m \u001b[1;33m**\u001b[0m\u001b[0mkwargs\u001b[0m\u001b[1;33m)\u001b[0m\u001b[1;33m,\u001b[0m \u001b[0mhow\u001b[0m\u001b[1;33m)\u001b[0m\u001b[1;33m\u001b[0m\u001b[1;33m\u001b[0m\u001b[0m\n\u001b[0m\u001b[0;32m     96\u001b[0m         \u001b[1;32mreturn\u001b[0m \u001b[0mobj\u001b[0m\u001b[1;33m\u001b[0m\u001b[1;33m\u001b[0m\u001b[0m\n\u001b[0;32m     97\u001b[0m \u001b[1;33m\u001b[0m\u001b[0m\n",
      "\u001b[1;32m~\\Anaconda3\\lib\\site-packages\\statsmodels\\tsa\\statespace\\mlemodel.py\u001b[0m in \u001b[0;36mpredict\u001b[1;34m(self, start, end, dynamic, **kwargs)\u001b[0m\n\u001b[0;32m   2432\u001b[0m         \"\"\"\n\u001b[0;32m   2433\u001b[0m         \u001b[1;31m# Perform the prediction\u001b[0m\u001b[1;33m\u001b[0m\u001b[1;33m\u001b[0m\u001b[1;33m\u001b[0m\u001b[0m\n\u001b[1;32m-> 2434\u001b[1;33m         \u001b[0mprediction_results\u001b[0m \u001b[1;33m=\u001b[0m \u001b[0mself\u001b[0m\u001b[1;33m.\u001b[0m\u001b[0mget_prediction\u001b[0m\u001b[1;33m(\u001b[0m\u001b[0mstart\u001b[0m\u001b[1;33m,\u001b[0m \u001b[0mend\u001b[0m\u001b[1;33m,\u001b[0m \u001b[0mdynamic\u001b[0m\u001b[1;33m,\u001b[0m \u001b[1;33m**\u001b[0m\u001b[0mkwargs\u001b[0m\u001b[1;33m)\u001b[0m\u001b[1;33m\u001b[0m\u001b[1;33m\u001b[0m\u001b[0m\n\u001b[0m\u001b[0;32m   2435\u001b[0m         \u001b[1;32mreturn\u001b[0m \u001b[0mprediction_results\u001b[0m\u001b[1;33m.\u001b[0m\u001b[0mpredicted_mean\u001b[0m\u001b[1;33m\u001b[0m\u001b[1;33m\u001b[0m\u001b[0m\n\u001b[0;32m   2436\u001b[0m \u001b[1;33m\u001b[0m\u001b[0m\n",
      "\u001b[1;32m~\\Anaconda3\\lib\\site-packages\\statsmodels\\tsa\\statespace\\sarimax.py\u001b[0m in \u001b[0;36mget_prediction\u001b[1;34m(self, start, end, dynamic, index, exog, **kwargs)\u001b[0m\n\u001b[0;32m   1944\u001b[0m                                      \u001b[1;34m' appropriate shape. Required %s, got %s.'\u001b[0m\u001b[1;33m\u001b[0m\u001b[1;33m\u001b[0m\u001b[0m\n\u001b[0;32m   1945\u001b[0m                                      % (str(required_exog_shape),\n\u001b[1;32m-> 1946\u001b[1;33m                                         str(exog.shape)))\n\u001b[0m\u001b[0;32m   1947\u001b[0m                 \u001b[0mexog\u001b[0m \u001b[1;33m=\u001b[0m \u001b[0mnp\u001b[0m\u001b[1;33m.\u001b[0m\u001b[0mc_\u001b[0m\u001b[1;33m[\u001b[0m\u001b[0mself\u001b[0m\u001b[1;33m.\u001b[0m\u001b[0mmodel\u001b[0m\u001b[1;33m.\u001b[0m\u001b[0mdata\u001b[0m\u001b[1;33m.\u001b[0m\u001b[0morig_exog\u001b[0m\u001b[1;33m.\u001b[0m\u001b[0mT\u001b[0m\u001b[1;33m,\u001b[0m \u001b[0mexog\u001b[0m\u001b[1;33m.\u001b[0m\u001b[0mT\u001b[0m\u001b[1;33m]\u001b[0m\u001b[1;33m.\u001b[0m\u001b[0mT\u001b[0m\u001b[1;33m\u001b[0m\u001b[1;33m\u001b[0m\u001b[0m\n\u001b[0;32m   1948\u001b[0m \u001b[1;33m\u001b[0m\u001b[0m\n",
      "\u001b[1;31mValueError\u001b[0m: Provided exogenous values are not of the appropriate shape. Required (49, 56), got (182, 56)."
     ]
    }
   ],
   "source": [
    "# SARIMAX\n",
    "sarimax = sm.tsa.statespace.SARIMAX(train,order=(4,1,1),seasonal_order=(0,0,0,1),exog = train_exog, enforce_stationarity=False, enforce_invertibility=False,freq='W').fit()\n",
    "pred_sarimax = sarimax.predict(\"2018-07-08\", \"2019-06-09\", exog = train_exog)[1:]\n",
    "pd.DataFrame({'test':test,'pred':pred_sarimax}).plot()"
   ]
  },
  {
   "cell_type": "markdown",
   "metadata": {},
   "source": [
    "## To Do "
   ]
  },
  {
   "cell_type": "markdown",
   "metadata": {},
   "source": [
    "- getting Google Trends Data for all states -> update the list with the state abbreviations from Google Trends\n",
    "- getting another list of symptoms from google trends (max. 5 keywords per search) \n",
    "- keywords alone or in combination?\n",
    "- mean correlation over all states"
   ]
  }
 ],
 "metadata": {
  "kernelspec": {
   "display_name": "Python 3",
   "language": "python",
   "name": "python3"
  },
  "language_info": {
   "codemirror_mode": {
    "name": "ipython",
    "version": 3
   },
   "file_extension": ".py",
   "mimetype": "text/x-python",
   "name": "python",
   "nbconvert_exporter": "python",
   "pygments_lexer": "ipython3",
   "version": "3.7.3"
  }
 },
 "nbformat": 4,
 "nbformat_minor": 2
}
